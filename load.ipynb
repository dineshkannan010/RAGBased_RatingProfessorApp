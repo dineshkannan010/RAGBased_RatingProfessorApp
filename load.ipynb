{
 "cells": [
  {
   "cell_type": "code",
   "execution_count": 7,
   "metadata": {},
   "outputs": [],
   "source": [
    "from dotenv import load_dotenv\n",
    "import os\n",
    "from openai import OpenAI\n",
    "from pinecone import Pinecone, ServerlessSpec"
   ]
  },
  {
   "cell_type": "code",
   "execution_count": 4,
   "metadata": {},
   "outputs": [],
   "source": [
    "pc=Pinecone(api_key=os.getenv(\"PINECONE_API_KEY\"))\n",
    "pc.create_index(\n",
    "    name=\"rag\", dimension=1536, metric=\"cosine\", spec=ServerlessSpec(cloud=\"aws\", region=\"us-east-1\")\n",
    ")"
   ]
  },
  {
   "cell_type": "code",
   "execution_count": 6,
   "metadata": {},
   "outputs": [
    {
     "data": {
      "text/plain": [
       "[{'professor': 'Dr. John Smith',\n",
       "  'subject': 'Introduction to Computer Science',\n",
       "  'stars': 4,\n",
       "  'review': 'Great professor! Makes complex topics easy to understand, but the exams are tough.'},\n",
       " {'professor': 'Dr. Emily Johnson',\n",
       "  'subject': 'Organic Chemistry',\n",
       "  'stars': 2,\n",
       "  'review': 'Very knowledgeable, but her lectures are hard to follow and the grading is strict.'},\n",
       " {'professor': 'Dr. Michael Brown',\n",
       "  'subject': 'Calculus I',\n",
       "  'stars': 5,\n",
       "  'review': 'Amazing teacher! Clear explanations and very approachable for extra help.'},\n",
       " {'professor': 'Dr. Sarah Davis',\n",
       "  'subject': 'Modern History',\n",
       "  'stars': 3,\n",
       "  'review': 'Good lectures, but relies heavily on textbook reading. Not very engaging.'},\n",
       " {'professor': 'Dr. David Wilson',\n",
       "  'subject': 'Microeconomics',\n",
       "  'stars': 4,\n",
       "  'review': 'Challenging course, but he provides plenty of resources and is very helpful.'},\n",
       " {'professor': 'Dr. Jennifer Moore',\n",
       "  'subject': 'Introduction to Psychology',\n",
       "  'stars': 1,\n",
       "  'review': \"Lectures are boring and repetitive. Doesn't seem interested in teaching.\"},\n",
       " {'professor': 'Dr. Robert Taylor',\n",
       "  'subject': 'Physics II',\n",
       "  'stars': 5,\n",
       "  'review': 'Engaging lecturer with a passion for the subject. Makes physics fun!'},\n",
       " {'professor': 'Dr. Mary Anderson',\n",
       "  'subject': 'Creative Writing',\n",
       "  'stars': 3,\n",
       "  'review': 'Encourages creativity but gives vague feedback on assignments.'},\n",
       " {'professor': 'Dr. Christopher Thomas',\n",
       "  'subject': 'Introduction to Sociology',\n",
       "  'stars': 4,\n",
       "  'review': 'Interesting lectures and fair grading. A good choice for an intro course.'},\n",
       " {'professor': 'Dr. Patricia Martinez',\n",
       "  'subject': 'Biology 101',\n",
       "  'stars': 2,\n",
       "  'review': 'Course is disorganized and lectures lack depth. Labs are better.'},\n",
       " {'professor': 'Dr. Linda Jackson',\n",
       "  'subject': 'American Literature',\n",
       "  'stars': 5,\n",
       "  'review': 'Passionate about literature and fosters great class discussions.'},\n",
       " {'professor': 'Dr. Barbara White',\n",
       "  'subject': 'Environmental Science',\n",
       "  'stars': 4,\n",
       "  'review': 'Informative and enthusiastic, but the workload is heavy.'},\n",
       " {'professor': 'Dr. James Harris',\n",
       "  'subject': 'Introduction to Philosophy',\n",
       "  'stars': 1,\n",
       "  'review': 'Monotonous lectures, and the exams are very difficult.'},\n",
       " {'professor': 'Dr. Karen Lewis',\n",
       "  'subject': 'Statistics for Social Sciences',\n",
       "  'stars': 3,\n",
       "  'review': 'Good explanations, but moves through material too quickly.'},\n",
       " {'professor': 'Dr. Steven Walker',\n",
       "  'subject': 'World Politics',\n",
       "  'stars': 5,\n",
       "  'review': 'Engaging, knowledgeable, and presents a balanced view of global issues.'},\n",
       " {'professor': 'Dr. Nancy Hall',\n",
       "  'subject': 'Introduction to Art History',\n",
       "  'stars': 2,\n",
       "  'review': 'Slides are outdated, and the class lacks structure.'},\n",
       " {'professor': 'Dr. Kevin Young',\n",
       "  'subject': 'Data Structures and Algorithms',\n",
       "  'stars': 4,\n",
       "  'review': 'Challenging but rewarding. He is always available for extra help.'},\n",
       " {'professor': 'Dr. Laura King',\n",
       "  'subject': 'Macroeconomics',\n",
       "  'stars': 3,\n",
       "  'review': 'Decent lectures, but the exams are more challenging than expected.'},\n",
       " {'professor': 'Dr. Daniel Wright',\n",
       "  'subject': 'Human Anatomy',\n",
       "  'stars': 5,\n",
       "  'review': 'Very thorough and passionate about the subject. Excellent lab sessions.'},\n",
       " {'professor': 'Dr. Susan Lopez',\n",
       "  'subject': 'Linear Algebra',\n",
       "  'stars': 2,\n",
       "  'review': 'Material is not well-organized, and the pace is too fast.'}]"
      ]
     },
     "execution_count": 6,
     "metadata": {},
     "output_type": "execute_result"
    }
   ],
   "source": [
    "import json\n",
    "data= json.load(open(\"reviews.json\"))\n",
    "data['reviews']"
   ]
  },
  {
   "cell_type": "code",
   "execution_count": 9,
   "metadata": {},
   "outputs": [],
   "source": [
    "processed_data=[]\n",
    "client= OpenAI()\n",
    "\n",
    "for review in data['reviews']:\n",
    "    response=client.embeddings.create(\n",
    "        input=review['review'],\n",
    "        model=\"text-embedding-3-small\",\n",
    "    )\n",
    "    embedding=response.data[0].embedding\n",
    "    processed_data.append({\n",
    "        \"values\":embedding,\n",
    "        \"id\":review[\"professor\"],\n",
    "        \"metadata\":{\n",
    "            \"review\":review[\"review\"],\n",
    "            \"subject\": review[\"subject\"],\n",
    "            \"stars\":review[\"stars\"]\n",
    "        }\n",
    "    })"
   ]
  },
  {
   "cell_type": "code",
   "execution_count": 10,
   "metadata": {},
   "outputs": [
    {
     "data": {
      "text/plain": [
       "{'upserted_count': 20}"
      ]
     },
     "execution_count": 10,
     "metadata": {},
     "output_type": "execute_result"
    }
   ],
   "source": [
    "index=pc.Index('rag')\n",
    "index.upsert(\n",
    "    vectors=processed_data,\n",
    "    namespace=\"ns1\"\n",
    ")"
   ]
  },
  {
   "cell_type": "code",
   "execution_count": 11,
   "metadata": {},
   "outputs": [
    {
     "data": {
      "text/plain": [
       "{'dimension': 1536,\n",
       " 'index_fullness': 0.0,\n",
       " 'namespaces': {'ns1': {'vector_count': 20}},\n",
       " 'total_vector_count': 20}"
      ]
     },
     "execution_count": 11,
     "metadata": {},
     "output_type": "execute_result"
    }
   ],
   "source": [
    "index.describe_index_stats()"
   ]
  },
  {
   "cell_type": "code",
   "execution_count": null,
   "metadata": {},
   "outputs": [],
   "source": []
  }
 ],
 "metadata": {
  "kernelspec": {
   "display_name": "venv",
   "language": "python",
   "name": "python3"
  },
  "language_info": {
   "codemirror_mode": {
    "name": "ipython",
    "version": 3
   },
   "file_extension": ".py",
   "mimetype": "text/x-python",
   "name": "python",
   "nbconvert_exporter": "python",
   "pygments_lexer": "ipython3",
   "version": "3.11.7"
  }
 },
 "nbformat": 4,
 "nbformat_minor": 2
}
